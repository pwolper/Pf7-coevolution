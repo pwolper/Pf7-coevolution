{
 "cells": [
  {
   "cell_type": "code",
   "execution_count": null,
   "metadata": {},
   "outputs": [],
   "source": [
    "#| default_exp session_1"
   ]
  },
  {
   "cell_type": "markdown",
   "metadata": {},
   "source": [
    "# 1. Session - MalariaGEN\n",
    "\n",
    "> The first session about the notebook is about exploring `https://www.malariagen.net/`. \n",
    "\n",
    "MalariaGen.net is an online database that provides comprehensive genomic data on Plasmodium falciparum, the parasite that causes the most severe form of malaria in humans. The database was established by the Malaria Genomic Epidemiology Network (MalariaGEN), which is a global collaboration of researchers working towards understanding the genetic and molecular basis of malaria susceptibility, drug resistance, and transmission.\n",
    "\n",
    "For more info:\n",
    "https://www.malariagen.net/Publications , and specifically:\n",
    "https://wellcomeopenresearch.org/articles/8-22/v1"
   ]
  },
  {
   "cell_type": "markdown",
   "metadata": {},
   "source": [
    "The database includes information on the genetic diversity of the parasite, including data on single nucleotide polymorphisms (SNPs) and copy number variations (CNVs). It also provides information on the distribution of drug resistance mutations, which is critical for developing effective malaria treatments."
   ]
  },
  {
   "cell_type": "markdown",
   "metadata": {},
   "source": [
    "In addition to genomic data, MalariaGen.net also provides access to other types of data, including epidemiological and clinical data. These data are integrated with the genomic data to provide a comprehensive view of the malaria landscape, including information on the distribution of different malaria parasite strains and their associated clinical outcomes."
   ]
  },
  {
   "cell_type": "markdown",
   "metadata": {},
   "source": [
    "Overall, MalariaGen.net is an essential resource for researchers and public health officials working towards the goal of eliminating malaria. By providing open access to comprehensive genomic and epidemiological data, MalariaGen.net is helping to drive advances in our understanding of the biology of the malaria parasite and to inform the development of new and effective malaria control strategies.\n",
    "\n",
    "\n",
    "\n"
   ]
  },
  {
   "cell_type": "markdown",
   "metadata": {},
   "source": [
    "## Data\n",
    "https://www.dropbox.com/sh/prelp6g1g369uec/AACruu4uCLf-v0PP1La5Yh_6a?dl=0"
   ]
  },
  {
   "cell_type": "markdown",
   "metadata": {},
   "source": [
    "## Outline\n",
    "\n",
    "We'll be focussing on the pathogen P. falciparum.\n",
    "\n",
    "![Alphonse Laveran was the first to identify the parasite in 1880, and named it Oscillaria malariae.](./images/laveran_malaria.jpg) \n",
    "\n"
   ]
  },
  {
   "cell_type": "markdown",
   "metadata": {},
   "source": [
    "1. Explore datasets available MalariaGEN related to P. falciparum   \n",
    "    We will be looking specifically at the following resources, short variants (SNPs only) and metadata:   \n",
    "        - 20,864 samples from 33 countries, but we will filter specifically for african countries (Kenya, ...)   \n",
    "        - VCF accessable at: ftp://ngs.sanger.ac.uk/production/malaria/Resource/34/Pf7_vcf/ using i.e. FileZilla   \n",
    "        - Filter version will be supplied due to large file sizes > 100 GBs (BCFTools)\n",
    "        - Resistance status to drugs, like: Chloroquine, Pyrimethamine, Sulfadoxine, Mefloquine, Artemisinin, Piperaquine   \n",
    "        - Other metadata, i.e. geographic location    \n",
    "\n",
    "\n",
    "2. After downloading and filtering the data we can load them with the python package `scikit-allel`. Next, we will filter, based on the samples of our country of interest and build geneologies with `tsinfer`. Afterwards, we date the inferred geneologies and calculate summary statistics, like genetic diversity and Tajimas D.\n",
    "\n",
    "\n",
    "To see more available data sources, of humans, mosquitos or different P. vivax feel free to explore:\n",
    "https://www.malariagen.net/data"
   ]
  },
  {
   "cell_type": "markdown",
   "metadata": {},
   "source": [
    "## Analysis\n",
    "\n",
    "In the following part of potential analysis path is shown, feel free to follow it and/or modify it."
   ]
  },
  {
   "cell_type": "markdown",
   "metadata": {},
   "source": [
    "### Metadata"
   ]
  },
  {
   "cell_type": "code",
   "execution_count": null,
   "metadata": {},
   "outputs": [],
   "source": [
    "#pip install requests pandas"
   ]
  },
  {
   "cell_type": "code",
   "execution_count": null,
   "metadata": {},
   "outputs": [],
   "source": [
    "# python package imports\n",
    "\n",
    "import os, io, requests\n",
    "from pathlib import Path\n",
    "import pandas as pd\n",
    "import numpy as np\n",
    "import matplotlib.pyplot as plt\n",
    "#data_directory = Path(\"../data\")\n"
   ]
  },
  {
   "cell_type": "code",
   "execution_count": null,
   "metadata": {},
   "outputs": [
    {
     "data": {
      "text/html": [
       "<div>\n",
       "<style scoped>\n",
       "    .dataframe tbody tr th:only-of-type {\n",
       "        vertical-align: middle;\n",
       "    }\n",
       "\n",
       "    .dataframe tbody tr th {\n",
       "        vertical-align: top;\n",
       "    }\n",
       "\n",
       "    .dataframe thead th {\n",
       "        text-align: right;\n",
       "    }\n",
       "</style>\n",
       "<table border=\"1\" class=\"dataframe\">\n",
       "  <thead>\n",
       "    <tr style=\"text-align: right;\">\n",
       "      <th></th>\n",
       "      <th>Sample</th>\n",
       "      <th>Study</th>\n",
       "      <th>Country</th>\n",
       "      <th>Admin level 1</th>\n",
       "      <th>Country latitude</th>\n",
       "      <th>Country longitude</th>\n",
       "      <th>Admin level 1 latitude</th>\n",
       "      <th>Admin level 1 longitude</th>\n",
       "      <th>Year</th>\n",
       "      <th>ENA</th>\n",
       "      <th>All samples same case</th>\n",
       "      <th>Population</th>\n",
       "      <th>% callable</th>\n",
       "      <th>QC pass</th>\n",
       "      <th>Exclusion reason</th>\n",
       "      <th>Sample type</th>\n",
       "      <th>Sample was in Pf6</th>\n",
       "    </tr>\n",
       "  </thead>\n",
       "  <tbody>\n",
       "    <tr>\n",
       "      <th>0</th>\n",
       "      <td>FP0008-C</td>\n",
       "      <td>1147-PF-MR-CONWAY</td>\n",
       "      <td>Mauritania</td>\n",
       "      <td>Hodh el Gharbi</td>\n",
       "      <td>20.265149</td>\n",
       "      <td>-10.337093</td>\n",
       "      <td>16.565426</td>\n",
       "      <td>-9.832345</td>\n",
       "      <td>2014.0</td>\n",
       "      <td>ERR1081237</td>\n",
       "      <td>FP0008-C</td>\n",
       "      <td>AF-W</td>\n",
       "      <td>82.16</td>\n",
       "      <td>True</td>\n",
       "      <td>Analysis_set</td>\n",
       "      <td>gDNA</td>\n",
       "      <td>True</td>\n",
       "    </tr>\n",
       "  </tbody>\n",
       "</table>\n",
       "</div>"
      ],
      "text/plain": [
       "     Sample              Study     Country   Admin level 1  Country latitude  \\\n",
       "0  FP0008-C  1147-PF-MR-CONWAY  Mauritania  Hodh el Gharbi         20.265149   \n",
       "\n",
       "   Country longitude  Admin level 1 latitude  Admin level 1 longitude    Year  \\\n",
       "0         -10.337093               16.565426                -9.832345  2014.0   \n",
       "\n",
       "          ENA All samples same case Population  % callable  QC pass  \\\n",
       "0  ERR1081237              FP0008-C       AF-W       82.16     True   \n",
       "\n",
       "  Exclusion reason Sample type  Sample was in Pf6  \n",
       "0     Analysis_set        gDNA               True  "
      ]
     },
     "execution_count": null,
     "metadata": {},
     "output_type": "execute_result"
    }
   ],
   "source": [
    "# Downloading samples information  \n",
    "samples_url = \"https://www.malariagen.net/sites/default/files/Pf7_samples.txt\"\n",
    "samples_metadata = pd.read_csv(io.StringIO(requests.get(samples_url).content.decode('utf-8')), sep=\"\\t\")\n",
    "samples_metadata.head().iloc[:1]"
   ]
  },
  {
   "cell_type": "code",
   "execution_count": null,
   "metadata": {},
   "outputs": [],
   "source": []
  },
  {
   "cell_type": "code",
   "execution_count": null,
   "metadata": {},
   "outputs": [],
   "source": [
    "african_countries = ['Benin', 'Burkina Faso','Cameroon', 'Gabon' ,'Cameroon', 'Côte d\\'Ivoire','Mozambique', 'Democratic Republic of the Congo','Sudan', 'Ethiopia', 'Gambia', 'Ghana', 'Guinea', 'Kenya', 'Madagascar', 'Malawi', 'Mali', 'Mauritania', 'Nigeria', 'Senegal', 'Tanzania', 'Uganda']\n",
    "non_african_countries = ['Bangladesh', 'Cambodia', 'Colombia', 'India', 'Indonesia', 'Laos', 'Myanmar', 'Papua New Guinea', 'Peru', 'Thailand', 'Venezuela', 'Vietnam']\n",
    "african_subset = ['Kenya', 'Ethiopia', 'Tanzania', 'Uganda']"
   ]
  },
  {
   "cell_type": "markdown",
   "metadata": {},
   "source": [
    "Next we identify the sample ids, which we want to explore:"
   ]
  },
  {
   "cell_type": "code",
   "execution_count": null,
   "metadata": {},
   "outputs": [],
   "source": [
    "# form sample table above create mask to filter the table to only contain rows of interest\n",
    "samples_metadata_mask = [True if criteria in african_subset else False for criteria in samples_metadata.Country]\n",
    "samples_metadata = samples_metadata[samples_metadata_mask]\n",
    "\n",
    "# quality control filtering\n",
    "samples_metadata = samples_metadata[samples_metadata[\"QC pass\"]]\n",
    "\n",
    "# we only look at genomic DNA (gDNA) for now\n",
    "samples_metadata_mask = [True if criteria in [\"gDNA\"] else False for criteria in samples_metadata[\"Sample type\"]]\n",
    "samples_metadata = samples_metadata[samples_metadata_mask]\n",
    "\n",
    "# reseting tables indices\n",
    "samples_metadata = samples_metadata.reset_index(drop=True)"
   ]
  },
  {
   "cell_type": "markdown",
   "metadata": {},
   "source": []
  },
  {
   "cell_type": "code",
   "execution_count": null,
   "metadata": {},
   "outputs": [
    {
     "name": "stdout",
     "output_type": "stream",
     "text": [
      "Number of gDNA samples in Kenya with QC pass True 321.\n"
     ]
    }
   ],
   "source": [
    "samples_metadata_kenya = samples_metadata[samples_metadata[\"Country\"] == \"Kenya\"]\n",
    "\n",
    "print(f\"Number of gDNA samples in Kenya with QC pass True {samples_metadata_kenya.shape[0]}.\")"
   ]
  },
  {
   "cell_type": "markdown",
   "metadata": {},
   "source": [
    "Save Kenyan samples ids to txt file:\n"
   ]
  },
  {
   "cell_type": "code",
   "execution_count": null,
   "metadata": {},
   "outputs": [],
   "source": [
    "kenyian_samples = samples_metadata_kenya[\"Sample\"].tolist()\n",
    "\n",
    "#samples_ids = samples_metadata_kenya.Sample.tolist()\n",
    "#with open(data_directory/\"kenyan_sample_ids.txt\", \"a\") as f:\n",
    "#    for samples_id in samples_ids:\n",
    "#        f.write(samples_id + \"\\n\")"
   ]
  },
  {
   "cell_type": "markdown",
   "metadata": {},
   "source": [
    "## What is an GFF file (General Feature Format)\n",
    "\n",
    "Standardized file format, which contains information where to find what genomic element in the genome.\n",
    "\n",
    "![GFF](./images/gff.png) \n"
   ]
  },
  {
   "cell_type": "markdown",
   "metadata": {},
   "source": [
    "## GFF file analysis"
   ]
  },
  {
   "cell_type": "code",
   "execution_count": null,
   "metadata": {},
   "outputs": [],
   "source": [
    "# path needs to be adapted\n",
    "gff_path = Path(\"../../Pfalciparum_replace_Pf3D7_MIT_v3_with_Pf_M76611.gff\")\n",
    "gff = pd.read_csv(gff_path, sep=\"\\t\", comment=\"#\", header=None)\n",
    "\n",
    "# renaming some columns\n",
    "gff.columns = [\"chr\", 1, \"region\", \"start\", \"end\", 4, \"strand\", 5, \"desc\"]\n",
    "\n",
    "\n",
    "# filtering for gene regions\n",
    "gff_genes = gff[gff[\"region\"] == \"gene\"]\n",
    "gff_genes.reset_index(drop=True, inplace=True)"
   ]
  },
  {
   "cell_type": "code",
   "execution_count": null,
   "metadata": {},
   "outputs": [],
   "source": []
  },
  {
   "cell_type": "markdown",
   "metadata": {},
   "source": [
    "Next we extract genes related to resistance of Malaria drugs."
   ]
  },
  {
   "cell_type": "code",
   "execution_count": null,
   "metadata": {},
   "outputs": [],
   "source": [
    "import re\n",
    "loci_locations = []\n",
    "locis = [\"crt\", \"dhfr\", \"dhps\", \"mdr1\", \"Kelch13\", \"Plasmepsin\"]\n",
    "for loci in locis:\n",
    "    pattern = 'Name=(.*' + loci.lower() +  '.*|.*' + loci.upper()  + '.*|' + loci + ').*;'\n",
    "    mask = [True if len(re.findall(pattern, desc)) > 0 else False for desc in gff_genes[\"desc\"]]\n",
    "    loci_locations.append(gff_genes[mask])\n",
    "\n",
    "loci_locations = pd.concat(loci_locations)\n",
    "# Plasmepsin not found (mostlikely different name)\n",
    "loci_locations.reset_index(drop=True, inplace=True)\n"
   ]
  },
  {
   "cell_type": "code",
   "execution_count": null,
   "metadata": {},
   "outputs": [
    {
     "name": "stdout",
     "output_type": "stream",
     "text": [
      "Pf3D7_07_v3 402385 406341 3956 ID=PF3D7_0709000;Name=CRT;previous_systematic_id=MAL7P1.27\n",
      "Pf3D7_04_v3 747897 750065 2168 ID=PF3D7_0417200;Name=DHFR-TS;previous_systematic_id=PFD0830w,MAL4P1.161;synonym=PfDHFR-TS%3Bcurrent%3Dfalse\n",
      "Pf3D7_08_v3 547896 551057 3161 ID=PF3D7_0810800;Name=PPPK-DHPS;previous_systematic_id=PF08_0095\n",
      "Pf3D7_05_v3 955955 963095 7140 ID=PF3D7_0523000;Name=MDR1;previous_systematic_id=PFE1150w,MAL5P1.230;synonym=Pgh1,ABCB1\n",
      "Pf3D7_13_v3 1724600 1727877 3277 ID=PF3D7_1343700;Name=Kelch13;previous_systematic_id=PF13_0238;synonym=K13\n"
     ]
    }
   ],
   "source": [
    "for _, item in loci_locations.iterrows():\n",
    "    print(item[\"chr\"], item[\"start\"], item[\"end\"], item[\"end\"] - item[\"start\"],  item[\"desc\"])\n"
   ]
  },
  {
   "cell_type": "markdown",
   "metadata": {},
   "source": [
    "## Loading resistance status metadata"
   ]
  },
  {
   "cell_type": "code",
   "execution_count": null,
   "metadata": {},
   "outputs": [],
   "source": [
    "resistance_url = \"https://www.malariagen.net/sites/default/files/Pf7_inferred_resistance_status_classification.txt\"\n",
    "resistance_status = pd.read_csv(io.StringIO(requests.get(resistance_url).content.decode('utf-8')), sep=\"\\t\")\n",
    "\n",
    "resistent_samples = []\n",
    "sensitive_samples = []\n",
    "undetermined_samples = []\n",
    "\n",
    "for sample in kenyian_samples:\n",
    "    sulfadoxine = resistance_status[resistance_status[\"Sample\"] == sample][\"Sulfadoxine\"]\n",
    "    if len(sulfadoxine) == 1:\n",
    "        sulfadoxine = sulfadoxine.item()\n",
    "\n",
    "        if sulfadoxine == \"Resistant\":\n",
    "            resistent_samples.append(sample)\n",
    "        if sulfadoxine == \"Sensitive\":\n",
    "            sensitive_samples.append(sample)\n",
    "        else:\n",
    "            undetermined_samples.append(sample)\n"
   ]
  },
  {
   "cell_type": "markdown",
   "metadata": {},
   "source": [
    "## What is a VCF file (Variant Call Format)?\n",
    "\n",
    "The Variant Call Format (VCF) specifies the format of a text file used in bioinformatics for storing gene sequence variations. The format has been developed with the advent of large-scale genotyping and DNA sequencing projects, such as the 1000 Genomes Project. \n",
    "\n",
    "\n",
    "```\n",
    "##fileformat=VCFv4.3\n",
    "##fileDate=20090805\n",
    "##source=myImputationProgramV3.1\n",
    "##reference=file:///seq/references/1000GenomesPilot-NCBI36.fasta\n",
    "##contig=<ID=20,length=62435964,assembly=B36,md5=f126cdf8a6e0c7f379d618ff66beb2da,species=\"Homo sapiens\",taxonomy=x>\n",
    "##phasing=partial\n",
    "##INFO=<ID=NS,Number=1,Type=Integer,Description=\"Number of Samples With Data\">\n",
    "##INFO=<ID=DP,Number=1,Type=Integer,Description=\"Total Depth\">\n",
    "##INFO=<ID=AF,Number=A,Type=Float,Description=\"Allele Frequency\">\n",
    "##INFO=<ID=AA,Number=1,Type=String,Description=\"Ancestral Allele\">\n",
    "##INFO=<ID=DB,Number=0,Type=Flag,Description=\"dbSNP membership, build 129\">\n",
    "##INFO=<ID=H2,Number=0,Type=Flag,Description=\"HapMap2 membership\">\n",
    "##FILTER=<ID=q10,Description=\"Quality below 10\">\n",
    "##FILTER=<ID=s50,Description=\"Less than 50% of samples have data\">\n",
    "##FORMAT=<ID=GT,Number=1,Type=String,Description=\"Genotype\">\n",
    "##FORMAT=<ID=GQ,Number=1,Type=Integer,Description=\"Genotype Quality\">\n",
    "##FORMAT=<ID=DP,Number=1,Type=Integer,Description=\"Read Depth\">\n",
    "##FORMAT=<ID=HQ,Number=2,Type=Integer,Description=\"Haplotype Quality\">\n",
    "#CHROM POS      ID         REF   ALT    QUAL  FILTER   INFO                             FORMAT       NA00001         NA00002          NA00003\n",
    "20     14370    rs6054257  G     A      29    PASS    NS=3;DP=14;AF=0.5;DB;H2           GT:GQ:DP:HQ  0|0:48:1:51,51  1|0:48:8:51,51   1/1:43:5:.,.\n",
    "20     17330    .          T     A      3     q10     NS=3;DP=11;AF=0.017               GT:GQ:DP:HQ  0|0:49:3:58,50  0|1:3:5:65,3     0/0:41:3\n",
    "20     1110696  rs6040355  A     G,T    67    PASS    NS=2;DP=10;AF=0.333,0.667;AA=T;DB GT:GQ:DP:HQ  1|2:21:6:23,27  2|1:2:0:18,2     2/2:35:4\n",
    "20     1230237  .          T     .      47    PASS    NS=3;DP=13;AA=T                   GT:GQ:DP:HQ  0|0:54:7:56,60  0|0:48:4:51,51   0/0:61:2\n",
    "20     1234567  microsat1  GTC   G,GTCT 50    PASS    NS=3;DP=9;AA=G                    GT:GQ:DP     0/1:35:4        0/2:17:2         1/1:40:3\n",
    "```"
   ]
  },
  {
   "cell_type": "markdown",
   "metadata": {},
   "source": [
    "## Extracting gene region of interest from VCF file"
   ]
  },
  {
   "cell_type": "markdown",
   "metadata": {},
   "source": [
    "To create a vcf file which contains only PASS bi-allelic coding SNPs with\n",
    "VQSLOD > 6:"
   ]
  },
  {
   "cell_type": "markdown",
   "metadata": {},
   "source": [
    "```console\n",
    "\n",
    "bcftools view \\\n",
    "--include 'FILTER=\"PASS\" && N_ALT=1 && CDS==1 && TYPE=\"snp\" && VQSLOD>6.0' \\\n",
    "--regions Pf3D7_04_v3:600000-1000000 \\\n",
    "--output-type z \\\n",
    "--output-file DHFR-TS.vcf.gz \\\n",
    "Pf3D7_04_v3.pf7.vcf.gz\n",
    "bcftools index --tbi DHFR-TS.vcf.gz\n",
    "\n",
    "\n",
    "bcftools view \\\n",
    "--include 'FILTER=\"PASS\" && N_ALT=1 && CDS==1 && TYPE=\"snp\" && VQSLOD>6.0' \\\n",
    "--regions Pf3D7_05_v3:800000-1100000 \\\n",
    "--output-type z \\\n",
    "--output-file MDR1_surrounding_region.vcf.gz \\\n",
    "Pf3D7_05_v3.pf7.vcf.gz\n",
    "bcftools index --tbi MDR1_surrounding_region.vcf.gz\n",
    "\n",
    "```"
   ]
  },
  {
   "cell_type": "markdown",
   "metadata": {},
   "source": [
    "## Loading VCF file and calculating nucleotide diversity (Tajimas Pi)"
   ]
  },
  {
   "cell_type": "code",
   "execution_count": null,
   "metadata": {},
   "outputs": [],
   "source": [
    "#pip install tsinfer tsdate scikit-allel numba matplotlib seaborn"
   ]
  },
  {
   "cell_type": "code",
   "execution_count": null,
   "metadata": {},
   "outputs": [],
   "source": [
    "import tsinfer, tsdate, allel\n",
    "import numpy as np\n",
    "import matplotlib.pyplot as plt\n",
    "import seaborn as sns"
   ]
  },
  {
   "cell_type": "markdown",
   "metadata": {},
   "source": [
    "```python\n",
    "# change the path to the file accordingly\n",
    "\n",
    "# in windows the file path looks something like 'C:/mydir'\n",
    "\n",
    "vcf_file = str(\"../../datasets/malaria-chromosomes/DHFR-TS_surrounding_region.vcf.gz\")\n",
    "callset = allel.read_vcf(vcf_file, fields=['samples', 'calldata/GT', 'variants/ALT', 'variants/CHROM',\n",
    "                                            'variants/FILTER_PASS', 'variants/ID', 'variants/POS',\n",
    "                                            'variants/QUAL', 'variants/REF','calldata/GT','calldata/PS'])\n",
    "\n",
    "gt = allel.GenotypeArray(callset['calldata/GT'])\n",
    "phase_sets = callset['calldata/PS']\n",
    "pos = callset[\"variants/POS\"]\n",
    "```"
   ]
  },
  {
   "cell_type": "code",
   "execution_count": null,
   "metadata": {},
   "outputs": [],
   "source": [
    "def get_genotypes(samples, genotypes):\n",
    "    mask = [True if sample in samples else False for sample in callset[\"samples\"]]\n",
    "    genotypes = genotypes[:,mask]\n",
    "    gt_np = np.array(genotypes.to_haplotypes())\n",
    "    return gt_np"
   ]
  },
  {
   "cell_type": "markdown",
   "metadata": {},
   "source": [
    "```python\n",
    "gt_kenyian = get_genotypes(kenyian_samples, gt)\n",
    "gt_resistant_kenyian = get_genotypes(resistent_samples, gt)\n",
    "gt_sensitive_kenyian = get_genotypes(sensitive_samples, gt)\n",
    "```\n"
   ]
  },
  {
   "cell_type": "markdown",
   "metadata": {},
   "source": [
    "```python\n",
    "ac = gt_sensitive_kenyian\n",
    "pi, windows, n_bases_sen, counts_sen = allel.windowed_diversity(pos=pos, ac=ac, size=10_000, start=pos[0])\n",
    "window_start = pd.DataFrame(windows)[0]\n",
    "sns.lineplot(x=window_start, y=pi, label=\"Nucleotide Diversity (sensitive)\")\n",
    "\n",
    "\n",
    "ac = gt_resistant_kenyian\n",
    "pi, windows, n_bases_res, counts_res = allel.windowed_diversity(pos=pos, ac=ac, size=10_000, start=pos[0])\n",
    "window_start = pd.DataFrame(windows)[0]\n",
    "sns.lineplot(x=window_start, y=pi, label=\"Nucleotide Diversity (resistant)\")\n",
    "\n",
    "plt.axvline(747897, ls='--')\n",
    "plt.axvline(750065, ls='--')\n",
    "plt.grid(True)\n",
    "\n",
    "plt.suptitle(\"DHFR (Sulfadoxine target)\")\n",
    "#plt.savefig(\"./images/dhfr_scikit.png\")\n",
    "```\n"
   ]
  },
  {
   "cell_type": "markdown",
   "metadata": {},
   "source": [
    "![DHFR gene](./images/dhfr_scikit.png) "
   ]
  },
  {
   "cell_type": "code",
   "execution_count": null,
   "metadata": {},
   "outputs": [],
   "source": []
  },
  {
   "cell_type": "markdown",
   "metadata": {},
   "source": [
    "## An alternative possibilty is to go through constructing the genealogies"
   ]
  },
  {
   "cell_type": "code",
   "execution_count": null,
   "metadata": {},
   "outputs": [],
   "source": [
    "def get_tree_sequence_from_genotypes(samples, genotypes):\n",
    "\n",
    "    mask = [True if sample in samples else False for sample in callset[\"samples\"]]\n",
    "    genotypes = genotypes[:,mask]\n",
    "    gt_np = np.array(genotypes.to_haplotypes())\n",
    "\n",
    "    new_pos = pos - pos[0] \n",
    "    num_sites = gt_np.shape[0]\n",
    "    with tsinfer.SampleData(sequence_length=new_pos[-1]+1) as sample_data:\n",
    "        for i, site in enumerate(gt_np):\n",
    "            sample_data.add_site(new_pos[i], site, ancestral_allele=0)\n",
    "\n",
    "    inferred_ts = tsinfer.infer(sample_data)\n",
    "    #inferred_ts_reduced = reduce_tree_sequence(inferred_ts, 500)\n",
    "\n",
    "    inferred_ts = inferred_ts.simplify(keep_unary=False)\n",
    "    inferred_dated_ts= tsdate.date(inferred_ts, Ne=2000, mutation_rate=2 * 10e-4)\n",
    "    return inferred_dated_ts"
   ]
  },
  {
   "cell_type": "markdown",
   "metadata": {},
   "source": [
    "```python\n",
    "ts_all = get_tree_sequence_from_genotypes(kenyian_samples, gt)\n",
    "ts_resistant = get_tree_sequence_from_genotypes(resistent_samples, gt)\n",
    "ts_sensitive = get_tree_sequence_from_genotypes(sensitive_samples, gt)\n",
    "```\n"
   ]
  },
  {
   "cell_type": "code",
   "execution_count": null,
   "metadata": {},
   "outputs": [],
   "source": [
    "def get_stats(ts, wins):\n",
    "\n",
    "    tajima = ts.Tajimas_D(windows=wins, mode=\"site\")\n",
    "    diversity = ts.diversity(windows=wins, mode=\"site\")\n",
    "    return diversity, tajima"
   ]
  },
  {
   "cell_type": "markdown",
   "metadata": {},
   "source": [
    "```python\n",
    "L = ts_all.sequence_length\n",
    "wins = np.linspace(0, L, 31)\n",
    "mids = (wins[1:] + wins[:-1]) / 2\n",
    "\n",
    "diversity, tajima = get_stats(ts_all, wins)\n",
    "diversity_res, tajima_res = get_stats(ts_resistant, wins)\n",
    "diversity_sens, tajima_sens = get_stats(ts_sensitive, wins)\n",
    "```"
   ]
  },
  {
   "cell_type": "markdown",
   "metadata": {},
   "source": []
  },
  {
   "cell_type": "markdown",
   "metadata": {},
   "source": [
    "```python\n",
    "fig, axs = plt.subplots(2, 2, figsize=(8, 6))\n",
    "ax = axs[0][0]\n",
    "sns.lineplot(x=mids, y=diversity_sens, ax=ax, label=\"Nucleotide diversity\")\n",
    "ax.axvline(747897-pos[0], ls='--')\n",
    "ax.axvline(750065-pos[0], ls='--')\n",
    "ax.grid(True)\n",
    "ax = axs[0][1]\n",
    "sns.lineplot(x=mids, y=tajima_sens, ax=ax, label=\"Tajimas D\")\n",
    "ax.set_ylim(-2, 2)\n",
    "ax.axhline(0)\n",
    "ax.axvline(747897-pos[0], ls='--')\n",
    "ax.axvline(750065-pos[0], ls='--')\n",
    "ax.grid(True)\n",
    "ax = axs[1][0]\n",
    "sns.lineplot(x=mids, y=diversity_res, ax=ax, label=\"Nucleotide diversity\")\n",
    "ax.axvline(747897-pos[0], ls='--')\n",
    "ax.axvline(750065-pos[0], ls='--')\n",
    "ax.grid(True)\n",
    "ax = axs[1][1]\n",
    "sns.lineplot(x=mids, y=tajima_res, ax=ax, label=\"Tajimas D\")\n",
    "ax.set_ylim(-2, 2)\n",
    "ax.axhline(0)\n",
    "ax.axvline(747897-pos[0], ls='--')\n",
    "ax.axvline(750065-pos[0], ls='--')\n",
    "ax.grid(True)\n",
    "fig.suptitle(\"DHFR (Sulfadoxine target - sensitive [top] resistant [bottom])\")\n",
    "\n",
    "\n",
    "#plt.savefig(\"./images/dhfr.png\")\n",
    "```"
   ]
  },
  {
   "cell_type": "markdown",
   "metadata": {},
   "source": [
    "![DHFR gene](./images/dhfr.png) \n"
   ]
  },
  {
   "cell_type": "code",
   "execution_count": null,
   "metadata": {},
   "outputs": [],
   "source": []
  }
 ],
 "metadata": {
  "kernelspec": {
   "display_name": "workshop-kenya",
   "language": "python",
   "name": "python3"
  },
  "language_info": {
   "name": "python",
   "version": "3.10.9"
  },
  "vscode": {
   "interpreter": {
    "hash": "8433775919f4a54bf8556c000e98b1be827f18b232c20adcfa994fd7cb0f93e9"
   }
  }
 },
 "nbformat": 4,
 "nbformat_minor": 4
}
